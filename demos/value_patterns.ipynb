{
 "cells": [
  {
   "cell_type": "code",
   "execution_count": 3,
   "metadata": {},
   "outputs": [],
   "source": [
    "import sys\n",
    "import os\n",
    "sys.path.append('..')\n",
    "\n",
    "import dfx.datasets\n",
    "import dfx.ops"
   ]
  },
  {
   "cell_type": "markdown",
   "metadata": {},
   "source": [
    "# Value Patterns\n",
    "Value patterns describe the values within a column.\n",
    "\n",
    "Examples:\n",
    "\n",
    "  - normally distributed numeric\n",
    "  - completely unique ID\n",
    "  - categorical (with a high rate of duplication)\n",
    "  - long text/comment"
   ]
  },
  {
   "cell_type": "code",
   "execution_count": 5,
   "metadata": {},
   "outputs": [
    {
     "name": "stdout",
     "output_type": "stream",
     "text": [
      "employee_id         : id\n",
      "region              : categorical, flag\n",
      "state               : categorical\n",
      "salary              : num_normal, num long tail\n",
      "company             : categorical\n",
      "manager_id          : categorical\n"
     ]
    }
   ],
   "source": [
    "print(dfx.ops.ColTypeDf(dfx.datasets.employees))"
   ]
  }
 ],
 "metadata": {
  "kernelspec": {
   "display_name": "Python 3",
   "language": "python",
   "name": "python3"
  },
  "language_info": {
   "codemirror_mode": {
    "name": "ipython",
    "version": 3
   },
   "file_extension": ".py",
   "mimetype": "text/x-python",
   "name": "python",
   "nbconvert_exporter": "python",
   "pygments_lexer": "ipython3",
   "version": "3.6.9"
  }
 },
 "nbformat": 4,
 "nbformat_minor": 2
}
